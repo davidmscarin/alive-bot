{
 "cells": [
  {
   "cell_type": "markdown",
   "metadata": {},
   "source": [
    "## Testing with the OpenAI API"
   ]
  },
  {
   "cell_type": "markdown",
   "metadata": {},
   "source": [
    "### Simple Usage"
   ]
  },
  {
   "cell_type": "code",
   "execution_count": null,
   "metadata": {},
   "outputs": [
    {
     "name": "stdout",
     "output_type": "stream",
     "text": [
      "[Choice(finish_reason='stop', index=0, logprobs=None, message=ChatCompletionMessage(content=\"In the realm of code where patterns entwine,\\nThere lies a concept both elegant and fine.\\nRecursion, a dance of functions divine,\\nA mystical loop that intertwines.\\n\\nA function that calls itself, oh so clever,\\nAn endless cycle that seems to go on forever.\\nWith each iteration, it solves a piece,\\nUnraveling problems, granting release.\\n\\nLike a fractal, repeating patterns unfold,\\nA beauty in simplicity, a story told.\\nDivide and conquer, the recursive quest,\\nBreaking problems down into the smallest jest.\\n\\nBase cases as anchors, to stop the recursion flow,\\nWithout them, chaos would surely grow.\\nSo mind the stack, the memory's pace,\\nA balance to keep in this recursive race.\\n\\nSo behold the magic of recursion's embrace,\\nA concept in coding, full of grace.\\nIt bends the rules, defies convention,\\nA loop like no other, a coder's invention.\", role='assistant', function_call=None, tool_calls=None))]\n"
     ]
    }
   ],
   "source": [
    "from openai import OpenAI\n",
    "from config import API_KEY\n",
    "client = OpenAI(api_key=API_KEY)\n",
    "\n",
    "completion = client.chat.completions.create(\n",
    "  model=\"gpt-3.5-turbo\",\n",
    "  messages=[\n",
    "    {\"role\": \"system\", \"content\": \"You are a poetic assistant, skilled in explaining complex programming concepts with creative flair.\"},\n",
    "    {\"role\": \"user\", \"content\": \"Compose a poem that explains the concept of recursion in programming.\"}\n",
    "  ]\n",
    ")\n",
    "\n",
    "print(completion.choices)"
   ]
  },
  {
   "cell_type": "code",
   "execution_count": null,
   "metadata": {},
   "outputs": [],
   "source": [
    "def get_user_prompt(role = 'user', user_prompt = \"\"):\n",
    "  \"\"\"Gets user prompt and appends location request.\"\"\"\n",
    "  # Append \"including coordinates\" to ensure location retrieval\n",
    "  user_prompt += \"include a dictionary at the end of your response with the following format: {place: coordinates}. Everytime you mention a place in your response, add it to the dictionary\"\n",
    "  message_dict = {\"role\": role, \"content\": user_prompt}\n",
    "  return message_dict\n",
    "    \n",
    "# completion = client.chat.completions.create(model = \"gpt-3.5-turbo\", messages = [get_user_prompt(user_prompt=\"tell me about the eiffel tower\")])\n",
    "\n",
    "# print(completion.choices[0].message.content)"
   ]
  },
  {
   "cell_type": "code",
   "execution_count": null,
   "metadata": {},
   "outputs": [],
   "source": [
    "import re\n",
    "\n",
    "# Function to extract coordinates from text using regular expressions\n",
    "# Function to extract coordinates from text using regular expressions\n",
    "def extract_coordinates(text):\n",
    "    # Regular expression pattern to match coordinates in the format \"48.8584° N, 2.2945° E\"\n",
    "    pattern = r\"(-?\\d+\\.\\d+)° (N|S), (-?\\d+\\.\\d+)° (E|W)\"\n",
    "    match = re.search(pattern, text)\n",
    "    if match:\n",
    "        latitude = float(match.group(1)) * (-1 if match.group(2) == 'S' else 1)\n",
    "        longitude = float(match.group(3)) * (-1 if match.group(4) == 'W' else 1)\n",
    "        return latitude, longitude\n",
    "    else:\n",
    "        return (-1, -1)"
   ]
  },
  {
   "cell_type": "code",
   "execution_count": null,
   "metadata": {},
   "outputs": [
    {
     "name": "stdout",
     "output_type": "stream",
     "text": [
      "Latitude: 48.8584\n",
      "Longitude: 2.2945\n"
     ]
    }
   ],
   "source": [
    "completion = client.chat.completions.create(model = \"gpt-3.5-turbo\", messages = [get_user_prompt(user_prompt=\"tell me about the eiffel tower\")])\n",
    "print(f\"Latitude: {extract_coordinates(completion.choices[0].message.content)[0]}\\nLongitude: {extract_coordinates(completion.choices[0].message.content)[1]}\")"
   ]
  },
  {
   "cell_type": "markdown",
   "metadata": {},
   "source": [
    "![Eiffel Tower Maps](eiffeltowermaps.png)"
   ]
  },
  {
   "cell_type": "markdown",
   "metadata": {},
   "source": [
    "### Multiple Locations"
   ]
  },
  {
   "cell_type": "code",
   "execution_count": null,
   "metadata": {},
   "outputs": [],
   "source": [
    "from openai import OpenAI\n",
    "from config import API_KEY, ASSISTANT_ID\n",
    "client = OpenAI(api_key=API_KEY)"
   ]
  },
  {
   "cell_type": "code",
   "execution_count": null,
   "metadata": {},
   "outputs": [
    {
     "name": "stdout",
     "output_type": "stream",
     "text": [
      "Paris is home to some of the most famous and impressive museums in the world. Here are a few that you should definitely consider visiting:\n",
      "\n",
      "1. The Louvre - This iconic museum is home to thousands of works of art, including the famous Mona Lisa. It is located at coordinates: {Louvre: 48.8606° N, 2.3376° E}.\n",
      "\n",
      "2. Musée d'Orsay - Housed in a stunning former railway station, this museum is home to an impressive collection of Impressionist and Post-Impressionist art. It is located at coordinates: {Musée d'Orsay: 48.8599° N, 2.3266° E}.\n",
      "\n",
      "3. Centre Pompidou - This modern art museum is known for its unique architecture and impressive collection of contemporary art. It is located at coordinates: {Centre Pompidou: 48.8606° N, 2.3521° E}.\n",
      "\n",
      "4. Musée Rodin - This museum is dedicated to the works of the famous sculptor Auguste Rodin and is located in his former home and studio. It is located at coordinates: {Musée Rodin: 48.8554° N, 2.3155° E}.\n",
      "\n",
      "5. Musée de l'Orangerie - This museum is known for its impressive collection of Impressionist and Post-Impressionist art, including Claude Monet's famous Water Lilies series. It is located at coordinates: {Musée de l'Orangerie: 48.8636° N, 2.3229° E}.\n",
      "\n",
      "Dictionary:\n",
      "{Louvre: 48.8606° N, 2.3376° E}\n",
      "{Musée d'Orsay: 48.8599° N, 2.3266° E}\n",
      "{Centre Pompidou: 48.8606° N, 2.3521° E}\n",
      "{Musée Rodin: 48.8554° N, 2.3155° E}\n",
      "{Musée de l'Orangerie: 48.8636° N, 2.3229° E}\n"
     ]
    }
   ],
   "source": [
    "completion = client.chat.completions.create(model = \"gpt-3.5-turbo\", messages = [get_user_prompt(user_prompt=\"what museums should I visit in Paris?\")])\n",
    "print(completion.choices[0].message.content)"
   ]
  },
  {
   "cell_type": "markdown",
   "metadata": {},
   "source": [
    "### Testing with Asistants"
   ]
  },
  {
   "cell_type": "code",
   "execution_count": null,
   "metadata": {},
   "outputs": [
    {
     "name": "stdout",
     "output_type": "stream",
     "text": [
      "[Assistant(id='asst_ERzvBehgZHH410kiTOuGtlNJ', created_at=1710757402, description=None, file_ids=[], instructions='you are a travel guide, an expert in geography and tourism, well suited to inform travellers on geographical, historical and cultural data', metadata={}, model='gpt-3.5-turbo-0125', name='AliveBot', object='assistant', tools=[ToolCodeInterpreter(type='code_interpreter')])]\n"
     ]
    }
   ],
   "source": [
    "#already created an assistant, checking list of assistants\n",
    "my_assistants = client.beta.assistants.list(\n",
    "    order=\"desc\",\n",
    "    limit=\"20\",\n",
    ")\n",
    "print(my_assistants.data)"
   ]
  },
  {
   "cell_type": "code",
   "execution_count": null,
   "metadata": {},
   "outputs": [],
   "source": [
    "my_assistant = client.beta.assistants.retrieve(assistant_id=ASSISTANT_ID)"
   ]
  },
  {
   "cell_type": "code",
   "execution_count": null,
   "metadata": {},
   "outputs": [],
   "source": [
    "'''in case we want to modify the params'''\n",
    "\n",
    "# my_updated_assistant = client.beta.assistants.update(\n",
    "#   \"asst_abc123\",\n",
    "#   instructions=\"You are an HR bot, and you have access to files to answer employee questions about company policies. Always response with info from either of the files.\",\n",
    "#   name=\"HR Helper\",\n",
    "#   tools=[{\"type\": \"retrieval\"}],\n",
    "#   model=\"gpt-4\",\n",
    "#   file_ids=[\"file-abc123\", \"file-abc456\"],\n",
    "# )"
   ]
  },
  {
   "cell_type": "markdown",
   "metadata": {},
   "source": [
    "### Experimenting with threads"
   ]
  },
  {
   "cell_type": "code",
   "execution_count": null,
   "metadata": {},
   "outputs": [
    {
     "name": "stdout",
     "output_type": "stream",
     "text": [
      "Thread(id='thread_ELhgxetceIT0D8ljO4UtYe2Q', created_at=1710759917, metadata={}, object='thread')\n"
     ]
    }
   ],
   "source": [
    "#create an empty thread\n",
    "\n",
    "empty_thread = client.beta.threads.create()\n",
    "print(empty_thread)"
   ]
  },
  {
   "cell_type": "code",
   "execution_count": null,
   "metadata": {},
   "outputs": [
    {
     "name": "stdout",
     "output_type": "stream",
     "text": [
      "ThreadMessage(id='msg_yZSofQlYKHbgFAWf8FhrUhez', assistant_id=None, content=[MessageContentText(text=Text(annotations=[], value='How does AI work? Explain it in simple terms.'), type='text')], created_at=1710759944, file_ids=[], metadata={}, object='thread.message', role='user', run_id=None, thread_id='thread_ELhgxetceIT0D8ljO4UtYe2Q')\n"
     ]
    }
   ],
   "source": [
    "#create a user message within the thread\n",
    "\n",
    "thread_message = client.beta.threads.messages.create(\n",
    "  \"thread_ELhgxetceIT0D8ljO4UtYe2Q\",\n",
    "  role=\"user\",\n",
    "  content=\"How does AI work? Explain it in simple terms.\",\n",
    ")\n",
    "print(thread_message)"
   ]
  },
  {
   "cell_type": "code",
   "execution_count": null,
   "metadata": {},
   "outputs": [],
   "source": [
    "#running the thread with the agent\n",
    "\n",
    "run = client.beta.threads.runs.create(\n",
    "  thread_id=\"thread_ELhgxetceIT0D8ljO4UtYe2Q\",\n",
    "  assistant_id=ASSISTANT_ID\n",
    ")"
   ]
  },
  {
   "cell_type": "code",
   "execution_count": null,
   "metadata": {},
   "outputs": [
    {
     "name": "stdout",
     "output_type": "stream",
     "text": [
      "[ThreadMessage(id='msg_gUV70YdFQuXEWE37tY56kGFH', assistant_id='asst_ERzvBehgZHH410kiTOuGtlNJ', content=[MessageContentText(text=Text(annotations=[], value=\"Sure! I'll explain how AI works in simple terms.\\n\\nArtificial Intelligence, or AI, is a field of computer science that aims to create machines that can perform tasks that typically require human intelligence. AI systems are designed to learn from data, adapt to new inputs, and perform tasks without being explicitly programmed to do so.\\n\\nAt the core of AI are algorithms, which are sets of rules and instructions that guide the AI system in solving problems or making decisions. These algorithms use data to learn and improve over time, a process known as machine learning.\\n\\nMachine learning algorithms can be categorized into two main types: supervised learning and unsupervised learning. In supervised learning, the algorithm is trained on labeled data, meaning the correct answers are provided during training. In unsupervised learning, the algorithm is given unlabeled data and must find patterns or relationships on its own.\\n\\nOnce an AI system is trained, it can be deployed to perform specific tasks, such as recognizing patterns in data, making predictions, or even controlling autonomous vehicles.\\n\\nIn a nutshell, AI works by using algorithms to process data, learn from it, and make decisions or perform tasks based on that learning. It enables machines to mimic human intelligence and solve complex problems in a way that was previously thought to be exclusive to humans.\"), type='text')], created_at=1710760429, file_ids=[], metadata={}, object='thread.message', role='assistant', run_id='run_IBMIykOGqLV8RVBfa1wgHs5R', thread_id='thread_ELhgxetceIT0D8ljO4UtYe2Q'), ThreadMessage(id='msg_yZSofQlYKHbgFAWf8FhrUhez', assistant_id=None, content=[MessageContentText(text=Text(annotations=[], value='How does AI work? Explain it in simple terms.'), type='text')], created_at=1710759944, file_ids=[], metadata={}, object='thread.message', role='user', run_id=None, thread_id='thread_ELhgxetceIT0D8ljO4UtYe2Q')]\n"
     ]
    }
   ],
   "source": [
    "#retrieving the thread\n",
    "\n",
    "my_thread = client.beta.threads.messages.list(\"thread_ELhgxetceIT0D8ljO4UtYe2Q\")\n",
    "print(my_thread.data)"
   ]
  }
 ],
 "metadata": {
  "language_info": {
   "name": "python"
  }
 },
 "nbformat": 4,
 "nbformat_minor": 2
}
