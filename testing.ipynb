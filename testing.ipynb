{
 "cells": [
  {
   "cell_type": "markdown",
   "metadata": {},
   "source": [
    "## Testing with the OpenAI API"
   ]
  },
  {
   "cell_type": "code",
   "execution_count": 1,
   "metadata": {},
   "outputs": [],
   "source": [
    "from openai import OpenAI\n",
    "from config import API_KEY, ASSISTANT_ID\n",
    "client = OpenAI(api_key=API_KEY)"
   ]
  },
  {
   "cell_type": "markdown",
   "metadata": {},
   "source": [
    "### Simple Usage"
   ]
  },
  {
   "cell_type": "code",
   "execution_count": null,
   "metadata": {},
   "outputs": [
    {
     "name": "stdout",
     "output_type": "stream",
     "text": [
      "[Choice(finish_reason='stop', index=0, logprobs=None, message=ChatCompletionMessage(content=\"In the realm of code where patterns entwine,\\nThere lies a concept both elegant and fine.\\nRecursion, a dance of functions divine,\\nA mystical loop that intertwines.\\n\\nA function that calls itself, oh so clever,\\nAn endless cycle that seems to go on forever.\\nWith each iteration, it solves a piece,\\nUnraveling problems, granting release.\\n\\nLike a fractal, repeating patterns unfold,\\nA beauty in simplicity, a story told.\\nDivide and conquer, the recursive quest,\\nBreaking problems down into the smallest jest.\\n\\nBase cases as anchors, to stop the recursion flow,\\nWithout them, chaos would surely grow.\\nSo mind the stack, the memory's pace,\\nA balance to keep in this recursive race.\\n\\nSo behold the magic of recursion's embrace,\\nA concept in coding, full of grace.\\nIt bends the rules, defies convention,\\nA loop like no other, a coder's invention.\", role='assistant', function_call=None, tool_calls=None))]\n"
     ]
    }
   ],
   "source": [
    "from openai import OpenAI\n",
    "from config import API_KEY\n",
    "client = OpenAI(api_key=API_KEY)\n",
    "\n",
    "completion = client.chat.completions.create(\n",
    "  model=\"gpt-3.5-turbo\",\n",
    "  messages=[\n",
    "    {\"role\": \"system\", \"content\": \"You are a poetic assistant, skilled in explaining complex programming concepts with creative flair.\"},\n",
    "    {\"role\": \"user\", \"content\": \"Compose a poem that explains the concept of recursion in programming.\"}\n",
    "  ]\n",
    ")\n",
    "\n",
    "print(completion.choices)"
   ]
  },
  {
   "cell_type": "code",
   "execution_count": null,
   "metadata": {},
   "outputs": [],
   "source": [
    "def get_user_prompt(role = 'user', user_prompt = \"\"):\n",
    "  \"\"\"Gets user prompt and appends location request.\"\"\"\n",
    "  # Append \"including coordinates\" to ensure location retrieval\n",
    "  user_prompt += \"include a dictionary at the end of your response with the following format: {place: coordinates}. Everytime you mention a place in your response, add it to the dictionary\"\n",
    "  message_dict = {\"role\": role, \"content\": user_prompt}\n",
    "  return message_dict\n",
    "    \n",
    "# completion = client.chat.completions.create(model = \"gpt-3.5-turbo\", messages = [get_user_prompt(user_prompt=\"tell me about the eiffel tower\")])\n",
    "\n",
    "# print(completion.choices[0].message.content)"
   ]
  },
  {
   "cell_type": "code",
   "execution_count": null,
   "metadata": {},
   "outputs": [],
   "source": [
    "import re\n",
    "\n",
    "# Function to extract coordinates from text using regular expressions\n",
    "# Function to extract coordinates from text using regular expressions\n",
    "def extract_coordinates(text):\n",
    "    # Regular expression pattern to match coordinates in the format \"48.8584° N, 2.2945° E\"\n",
    "    pattern = r\"(-?\\d+\\.\\d+)° (N|S), (-?\\d+\\.\\d+)° (E|W)\"\n",
    "    match = re.search(pattern, text)\n",
    "    if match:\n",
    "        latitude = float(match.group(1)) * (-1 if match.group(2) == 'S' else 1)\n",
    "        longitude = float(match.group(3)) * (-1 if match.group(4) == 'W' else 1)\n",
    "        return latitude, longitude\n",
    "    else:\n",
    "        return (-1, -1)"
   ]
  },
  {
   "cell_type": "code",
   "execution_count": null,
   "metadata": {},
   "outputs": [
    {
     "name": "stdout",
     "output_type": "stream",
     "text": [
      "Latitude: 48.8584\n",
      "Longitude: 2.2945\n"
     ]
    }
   ],
   "source": [
    "completion = client.chat.completions.create(model = \"gpt-3.5-turbo\", messages = [get_user_prompt(user_prompt=\"tell me about the eiffel tower\")])\n",
    "print(f\"Latitude: {extract_coordinates(completion.choices[0].message.content)[0]}\\nLongitude: {extract_coordinates(completion.choices[0].message.content)[1]}\")"
   ]
  },
  {
   "cell_type": "markdown",
   "metadata": {},
   "source": [
    "![Eiffel Tower Maps](eiffeltowermaps.png)"
   ]
  },
  {
   "cell_type": "markdown",
   "metadata": {},
   "source": [
    "### Multiple Locations"
   ]
  },
  {
   "cell_type": "code",
   "execution_count": null,
   "metadata": {},
   "outputs": [],
   "source": [
    "from openai import OpenAI\n",
    "from config import API_KEY, ASSISTANT_ID\n",
    "client = OpenAI(api_key=API_KEY)"
   ]
  },
  {
   "cell_type": "code",
   "execution_count": null,
   "metadata": {},
   "outputs": [
    {
     "name": "stdout",
     "output_type": "stream",
     "text": [
      "Paris is home to some of the most famous and impressive museums in the world. Here are a few that you should definitely consider visiting:\n",
      "\n",
      "1. The Louvre - This iconic museum is home to thousands of works of art, including the famous Mona Lisa. It is located at coordinates: {Louvre: 48.8606° N, 2.3376° E}.\n",
      "\n",
      "2. Musée d'Orsay - Housed in a stunning former railway station, this museum is home to an impressive collection of Impressionist and Post-Impressionist art. It is located at coordinates: {Musée d'Orsay: 48.8599° N, 2.3266° E}.\n",
      "\n",
      "3. Centre Pompidou - This modern art museum is known for its unique architecture and impressive collection of contemporary art. It is located at coordinates: {Centre Pompidou: 48.8606° N, 2.3521° E}.\n",
      "\n",
      "4. Musée Rodin - This museum is dedicated to the works of the famous sculptor Auguste Rodin and is located in his former home and studio. It is located at coordinates: {Musée Rodin: 48.8554° N, 2.3155° E}.\n",
      "\n",
      "5. Musée de l'Orangerie - This museum is known for its impressive collection of Impressionist and Post-Impressionist art, including Claude Monet's famous Water Lilies series. It is located at coordinates: {Musée de l'Orangerie: 48.8636° N, 2.3229° E}.\n",
      "\n",
      "Dictionary:\n",
      "{Louvre: 48.8606° N, 2.3376° E}\n",
      "{Musée d'Orsay: 48.8599° N, 2.3266° E}\n",
      "{Centre Pompidou: 48.8606° N, 2.3521° E}\n",
      "{Musée Rodin: 48.8554° N, 2.3155° E}\n",
      "{Musée de l'Orangerie: 48.8636° N, 2.3229° E}\n"
     ]
    }
   ],
   "source": [
    "completion = client.chat.completions.create(model = \"gpt-3.5-turbo\", messages = [get_user_prompt(user_prompt=\"what museums should I visit in Paris?\")])\n",
    "print(completion.choices[0].message.content)"
   ]
  },
  {
   "cell_type": "markdown",
   "metadata": {},
   "source": [
    "### Testing with Asistants"
   ]
  },
  {
   "cell_type": "code",
   "execution_count": null,
   "metadata": {},
   "outputs": [
    {
     "name": "stdout",
     "output_type": "stream",
     "text": [
      "[Assistant(id='asst_ERzvBehgZHH410kiTOuGtlNJ', created_at=1710757402, description=None, file_ids=[], instructions='you are a travel guide, an expert in geography and tourism, well suited to inform travellers on geographical, historical and cultural data', metadata={}, model='gpt-3.5-turbo-0125', name='AliveBot', object='assistant', tools=[ToolCodeInterpreter(type='code_interpreter')])]\n"
     ]
    }
   ],
   "source": [
    "#already created an assistant, checking list of assistants\n",
    "my_assistants = client.beta.assistants.list(\n",
    "    order=\"desc\",\n",
    "    limit=\"20\",\n",
    ")\n",
    "print(my_assistants.data)"
   ]
  },
  {
   "cell_type": "code",
   "execution_count": null,
   "metadata": {},
   "outputs": [],
   "source": [
    "my_assistant = client.beta.assistants.retrieve(assistant_id=ASSISTANT_ID)"
   ]
  },
  {
   "cell_type": "code",
   "execution_count": null,
   "metadata": {},
   "outputs": [],
   "source": [
    "'''in case we want to modify the params'''\n",
    "\n",
    "# my_updated_assistant = client.beta.assistants.update(\n",
    "#   \"asst_abc123\",\n",
    "#   instructions=\"You are an HR bot, and you have access to files to answer employee questions about company policies. Always response with info from either of the files.\",\n",
    "#   name=\"HR Helper\",\n",
    "#   tools=[{\"type\": \"retrieval\"}],\n",
    "#   model=\"gpt-4\",\n",
    "#   file_ids=[\"file-abc123\", \"file-abc456\"],\n",
    "# )"
   ]
  },
  {
   "cell_type": "markdown",
   "metadata": {},
   "source": [
    "### Experimenting with threads"
   ]
  },
  {
   "cell_type": "code",
   "execution_count": 3,
   "metadata": {},
   "outputs": [
    {
     "name": "stdout",
     "output_type": "stream",
     "text": [
      "Thread(id='thread_JpwIm8ehLphD0iLtykFiX4JA', created_at=1712524345, metadata={}, object='thread')\n"
     ]
    }
   ],
   "source": [
    "#create an empty thread\n",
    "\n",
    "empty_thread = client.beta.threads.create()\n",
    "print(empty_thread)"
   ]
  },
  {
   "cell_type": "code",
   "execution_count": 7,
   "metadata": {},
   "outputs": [
    {
     "name": "stdout",
     "output_type": "stream",
     "text": [
      "ThreadMessage(id='msg_MV0ClkWcangoGhPiR7lH9RMs', assistant_id=None, content=[MessageContentText(text=Text(annotations=[], value='Where is the Statue of Liberty?'), type='text')], created_at=1712524450, file_ids=[], metadata={}, object='thread.message', role='user', run_id=None, thread_id='thread_JpwIm8ehLphD0iLtykFiX4JA')\n"
     ]
    }
   ],
   "source": [
    "#create a user message within the thread\n",
    "\n",
    "thread_message = client.beta.threads.messages.create(\n",
    "  \"thread_JpwIm8ehLphD0iLtykFiX4JA\",\n",
    "  role=\"user\",\n",
    "  content=\"Where is the Statue of Liberty?\",\n",
    ")\n",
    "print(thread_message)"
   ]
  },
  {
   "cell_type": "code",
   "execution_count": 8,
   "metadata": {},
   "outputs": [],
   "source": [
    "#running the thread with the agent\n",
    "\n",
    "run = client.beta.threads.runs.create(\n",
    "  thread_id=\"thread_JpwIm8ehLphD0iLtykFiX4JA\",\n",
    "  assistant_id=ASSISTANT_ID\n",
    ")"
   ]
  },
  {
   "cell_type": "code",
   "execution_count": 9,
   "metadata": {},
   "outputs": [
    {
     "data": {
      "text/plain": [
       "Run(id='run_i367aKkhTbsvYcLQEZjK6rVp', assistant_id='asst_ERzvBehgZHH410kiTOuGtlNJ', cancelled_at=None, completed_at=None, created_at=1712524459, expires_at=1712525059, failed_at=None, file_ids=[], instructions='you are a travel guide, an expert in geography and tourism, well suited to inform travellers on geographical, historical and cultural data', last_error=None, metadata={}, model='gpt-3.5-turbo-0125', object='thread.run', required_action=None, started_at=None, status='queued', thread_id='thread_JpwIm8ehLphD0iLtykFiX4JA', tools=[ToolAssistantToolsCode(type='code_interpreter')], usage=None, temperature=1.0)"
      ]
     },
     "execution_count": 9,
     "metadata": {},
     "output_type": "execute_result"
    }
   ],
   "source": [
    "run"
   ]
  },
  {
   "cell_type": "code",
   "execution_count": 10,
   "metadata": {},
   "outputs": [
    {
     "name": "stdout",
     "output_type": "stream",
     "text": [
      "[ThreadMessage(id='msg_DmndEO7cAQGpnzsP8OX6pUj6', assistant_id='asst_ERzvBehgZHH410kiTOuGtlNJ', content=[MessageContentText(text=Text(annotations=[], value='The Statue of Liberty is located on Liberty Island in New York Harbor, in the United States of America. Liberty Island is part of the territory of the state of New York. The statue was a gift from the people of France to the United States and is a symbol of freedom and democracy. It is one of the most iconic landmarks in the world and a popular tourist attraction.'), type='text')], created_at=1712524460, file_ids=[], metadata={}, object='thread.message', role='assistant', run_id='run_i367aKkhTbsvYcLQEZjK6rVp', thread_id='thread_JpwIm8ehLphD0iLtykFiX4JA'), ThreadMessage(id='msg_MV0ClkWcangoGhPiR7lH9RMs', assistant_id=None, content=[MessageContentText(text=Text(annotations=[], value='Where is the Statue of Liberty?'), type='text')], created_at=1712524450, file_ids=[], metadata={}, object='thread.message', role='user', run_id=None, thread_id='thread_JpwIm8ehLphD0iLtykFiX4JA')]\n"
     ]
    }
   ],
   "source": [
    "#retrieving the thread\n",
    "\n",
    "my_thread = client.beta.threads.messages.list(\"thread_JpwIm8ehLphD0iLtykFiX4JA\")\n",
    "print(my_thread.data)"
   ]
  },
  {
   "cell_type": "code",
   "execution_count": 16,
   "metadata": {},
   "outputs": [],
   "source": [
    "thread_message = client.beta.threads.messages.create(\n",
    "  \"thread_JpwIm8ehLphD0iLtykFiX4JA\",\n",
    "  role=\"user\",\n",
    "  content=\"Where is The White House\",\n",
    ")"
   ]
  },
  {
   "cell_type": "code",
   "execution_count": 17,
   "metadata": {},
   "outputs": [],
   "source": [
    "run = client.beta.threads.runs.create(\n",
    "  thread_id=\"thread_JpwIm8ehLphD0iLtykFiX4JA\",\n",
    "  assistant_id=ASSISTANT_ID\n",
    ")"
   ]
  },
  {
   "cell_type": "code",
   "execution_count": 28,
   "metadata": {},
   "outputs": [
    {
     "data": {
      "text/plain": [
       "[ThreadMessage(id='msg_geOC1kaDb07PQNwusS3CQP1w', assistant_id='asst_ERzvBehgZHH410kiTOuGtlNJ', content=[MessageContentText(text=Text(annotations=[], value='The White House is located at 1600 Pennsylvania Avenue NW in Washington, D.C., the capital city of the United States. It serves as the official residence and workplace of the President of the United States. The White House is an iconic symbol of American democracy and is a popular tourist destination for visitors from around the world.'), type='text')], created_at=1712524803, file_ids=[], metadata={}, object='thread.message', role='assistant', run_id='run_OOci2HFRS6BsJ9jzHhOad3nT', thread_id='thread_JpwIm8ehLphD0iLtykFiX4JA'),\n",
       " ThreadMessage(id='msg_uZn5CJrjPw826mJ0EQVpwYnC', assistant_id=None, content=[MessageContentText(text=Text(annotations=[], value='Where is The White House'), type='text')], created_at=1712524788, file_ids=[], metadata={}, object='thread.message', role='user', run_id=None, thread_id='thread_JpwIm8ehLphD0iLtykFiX4JA'),\n",
       " ThreadMessage(id='msg_ncKn8zzcoRMoZk8v30fzJ9cp', assistant_id='asst_ERzvBehgZHH410kiTOuGtlNJ', content=[MessageContentText(text=Text(annotations=[], value='Hello! How can I assist you today?'), type='text')], created_at=1712524719, file_ids=[], metadata={}, object='thread.message', role='assistant', run_id='run_wBWyayDuJ5hr4FkJPEZL4doF', thread_id='thread_JpwIm8ehLphD0iLtykFiX4JA'),\n",
       " ThreadMessage(id='msg_vFg5W6ZHnUxb2QnWDnSnpT4l', assistant_id=None, content=[MessageContentText(text=Text(annotations=[], value='Hello'), type='text')], created_at=1712524717, file_ids=[], metadata={}, object='thread.message', role='user', run_id=None, thread_id='thread_JpwIm8ehLphD0iLtykFiX4JA'),\n",
       " ThreadMessage(id='msg_DmndEO7cAQGpnzsP8OX6pUj6', assistant_id='asst_ERzvBehgZHH410kiTOuGtlNJ', content=[MessageContentText(text=Text(annotations=[], value='The Statue of Liberty is located on Liberty Island in New York Harbor, in the United States of America. Liberty Island is part of the territory of the state of New York. The statue was a gift from the people of France to the United States and is a symbol of freedom and democracy. It is one of the most iconic landmarks in the world and a popular tourist attraction.'), type='text')], created_at=1712524460, file_ids=[], metadata={}, object='thread.message', role='assistant', run_id='run_i367aKkhTbsvYcLQEZjK6rVp', thread_id='thread_JpwIm8ehLphD0iLtykFiX4JA'),\n",
       " ThreadMessage(id='msg_MV0ClkWcangoGhPiR7lH9RMs', assistant_id=None, content=[MessageContentText(text=Text(annotations=[], value='Where is the Statue of Liberty?'), type='text')], created_at=1712524450, file_ids=[], metadata={}, object='thread.message', role='user', run_id=None, thread_id='thread_JpwIm8ehLphD0iLtykFiX4JA')]"
      ]
     },
     "execution_count": 28,
     "metadata": {},
     "output_type": "execute_result"
    }
   ],
   "source": [
    "my_thread = client.beta.threads.messages.list(\"thread_JpwIm8ehLphD0iLtykFiX4JA\").data\n",
    "my_thread"
   ]
  },
  {
   "cell_type": "code",
   "execution_count": 45,
   "metadata": {},
   "outputs": [
    {
     "name": "stdout",
     "output_type": "stream",
     "text": [
      "Where is The White House\n",
      "The White House is located at 1600 Pennsylvania Avenue NW in Washington, D.C., the capital city of the United States. It serves as the official residence and workplace of the President of the United States. The White House is an iconic symbol of American democracy and is a popular tourist destination for visitors from around the world.\n"
     ]
    }
   ],
   "source": [
    "print(my_thread[1].content[0].text.value)\n",
    "print(my_thread[0].content[0].text.value)"
   ]
  },
  {
   "cell_type": "markdown",
   "metadata": {},
   "source": [
    "### Attempting Conversation"
   ]
  },
  {
   "cell_type": "markdown",
   "metadata": {},
   "source": [
    "not using threads (model does not remember information)"
   ]
  },
  {
   "cell_type": "code",
   "execution_count": 10,
   "metadata": {},
   "outputs": [],
   "source": [
    "def send_message_to_assistant(user_input):\n",
    "    \"\"\"\n",
    "    Sends a message to an existing conversation thread with the Assistant and gets the response.\n",
    "    \"\"\"\n",
    "    response = client.chat.completions.create(\n",
    "        model=\"gpt-3.5-turbo\",\n",
    "        messages=[\n",
    "            {\"role\": \"user\", \"content\": user_input}\n",
    "        ],\n",
    "    )\n",
    "    \n",
    "    # Extract the Assistant's response from the created message\n",
    "    assistant_response = response.choices[0].message.content  # Adjust based on actual response structure\n",
    "    return assistant_response"
   ]
  },
  {
   "cell_type": "code",
   "execution_count": 11,
   "metadata": {},
   "outputs": [],
   "source": [
    "def conversation():\n",
    "    print(\"Chat with the Assistant! Type 'quit' to exit.\")\n",
    "    while True:\n",
    "        user_input = input(\"You: \")\n",
    "        if user_input.lower() == 'quit':\n",
    "            break\n",
    "\n",
    "        assistant_response = send_message_to_assistant(user_input)\n",
    "        print(\"Assistant:\", assistant_response)"
   ]
  },
  {
   "cell_type": "code",
   "execution_count": 12,
   "metadata": {},
   "outputs": [
    {
     "name": "stdout",
     "output_type": "stream",
     "text": [
      "Chat with the Assistant! Type 'quit' to exit.\n",
      "Assistant: Hello! How can I assist you today?\n",
      "Assistant: Hello Bob! How can I assist you today?\n",
      "Assistant: I am sorry, I do not know your name as I am an AI assistant and do not have access to personal information.\n",
      "Assistant: 2 + 2 equals 4.\n",
      "Assistant: Hello! How can I assist you today?\n"
     ]
    }
   ],
   "source": [
    "conversation()"
   ]
  },
  {
   "cell_type": "markdown",
   "metadata": {},
   "source": [
    "using threads"
   ]
  },
  {
   "cell_type": "code",
   "execution_count": 53,
   "metadata": {},
   "outputs": [],
   "source": [
    "def create_empty_thread():\n",
    "    empty_thread = client.beta.threads.create()\n",
    "    return empty_thread.id"
   ]
  },
  {
   "cell_type": "code",
   "execution_count": 74,
   "metadata": {},
   "outputs": [],
   "source": [
    "import os\n",
    "\n",
    "def send_and_run():\n",
    "    \"\"\"\n",
    "    Sends a user's message to the Assistant and retrieves the response within a thread.\n",
    "    \"\"\"\n",
    "\n",
    "    id = create_empty_thread()\n",
    "    print(\"Chat with the Assistant! Type 'quit' to exit.\")\n",
    "\n",
    "    while True:\n",
    "\n",
    "        thread_data = client.beta.threads.messages.list(id).data\n",
    "        for msg in thread_data[::-1]:\n",
    "            print(msg)\n",
    "        print('\\n')\n",
    "\n",
    "        os.system('cls')\n",
    "        user_input = input(\"User: \")\n",
    "        if user_input.lower() == 'quit':\n",
    "            break\n",
    "\n",
    "        # Sending a message to the thread\n",
    "        thread_message = client.beta.threads.messages.create(\n",
    "            id,\n",
    "            role=\"user\",\n",
    "            content=user_input\n",
    "        )\n",
    "\n",
    "        # Running the thread with the specific assistant\n",
    "        run = client.beta.threads.runs.create(\n",
    "            id,\n",
    "            assistant_id=ASSISTANT_ID\n",
    "        )\n",
    "        #return(thread_data[counter].content[0].text.value)"
   ]
  },
  {
   "cell_type": "code",
   "execution_count": 75,
   "metadata": {},
   "outputs": [
    {
     "name": "stdout",
     "output_type": "stream",
     "text": [
      "Chat with the Assistant! Type 'quit' to exit.\n",
      "\n",
      "\n",
      "ThreadMessage(id='msg_0G4ixQx14plBm80NIA2rkUSQ', assistant_id=None, content=[MessageContentText(text=Text(annotations=[], value='Hello'), type='text')], created_at=1712526846, file_ids=[], metadata={}, object='thread.message', role='user', run_id=None, thread_id='thread_vcYd1rXbr0lIvVOwKA4mTqBK')\n",
      "\n",
      "\n",
      "ThreadMessage(id='msg_0G4ixQx14plBm80NIA2rkUSQ', assistant_id=None, content=[MessageContentText(text=Text(annotations=[], value='Hello'), type='text')], created_at=1712526846, file_ids=[], metadata={}, object='thread.message', role='user', run_id=None, thread_id='thread_vcYd1rXbr0lIvVOwKA4mTqBK')\n",
      "ThreadMessage(id='msg_pjn57ggXgTD88XTKl2wZcEqG', assistant_id='asst_ERzvBehgZHH410kiTOuGtlNJ', content=[MessageContentText(text=Text(annotations=[], value='Hello! How can I assist you today?'), type='text')], created_at=1712526847, file_ids=[], metadata={}, object='thread.message', role='assistant', run_id='run_fRmzhhki46j4aGKX2XaiaAvc', thread_id='thread_vcYd1rXbr0lIvVOwKA4mTqBK')\n",
      "ThreadMessage(id='msg_11tZNnzxMrbwgZsHmzgGTFv3', assistant_id=None, content=[MessageContentText(text=Text(annotations=[], value='my name is Bob'), type='text')], created_at=1712526904, file_ids=[], metadata={}, object='thread.message', role='user', run_id=None, thread_id='thread_vcYd1rXbr0lIvVOwKA4mTqBK')\n",
      "\n",
      "\n",
      "ThreadMessage(id='msg_0G4ixQx14plBm80NIA2rkUSQ', assistant_id=None, content=[MessageContentText(text=Text(annotations=[], value='Hello'), type='text')], created_at=1712526846, file_ids=[], metadata={}, object='thread.message', role='user', run_id=None, thread_id='thread_vcYd1rXbr0lIvVOwKA4mTqBK')\n",
      "ThreadMessage(id='msg_pjn57ggXgTD88XTKl2wZcEqG', assistant_id='asst_ERzvBehgZHH410kiTOuGtlNJ', content=[MessageContentText(text=Text(annotations=[], value='Hello! How can I assist you today?'), type='text')], created_at=1712526847, file_ids=[], metadata={}, object='thread.message', role='assistant', run_id='run_fRmzhhki46j4aGKX2XaiaAvc', thread_id='thread_vcYd1rXbr0lIvVOwKA4mTqBK')\n",
      "ThreadMessage(id='msg_11tZNnzxMrbwgZsHmzgGTFv3', assistant_id=None, content=[MessageContentText(text=Text(annotations=[], value='my name is Bob'), type='text')], created_at=1712526904, file_ids=[], metadata={}, object='thread.message', role='user', run_id=None, thread_id='thread_vcYd1rXbr0lIvVOwKA4mTqBK')\n",
      "ThreadMessage(id='msg_1SskTiXm5sKairUkKknRnUCj', assistant_id='asst_ERzvBehgZHH410kiTOuGtlNJ', content=[MessageContentText(text=Text(annotations=[], value='Nice to meet you, Bob! How can I help you today?'), type='text')], created_at=1712526905, file_ids=[], metadata={}, object='thread.message', role='assistant', run_id='run_6loxjvZvqzo9Ud09KgEzUSWj', thread_id='thread_vcYd1rXbr0lIvVOwKA4mTqBK')\n",
      "ThreadMessage(id='msg_CSrIDQiTfA5lUmqesizCVMSn', assistant_id=None, content=[MessageContentText(text=Text(annotations=[], value='who are you?'), type='text')], created_at=1712526927, file_ids=[], metadata={}, object='thread.message', role='user', run_id=None, thread_id='thread_vcYd1rXbr0lIvVOwKA4mTqBK')\n",
      "\n",
      "\n",
      "ThreadMessage(id='msg_0G4ixQx14plBm80NIA2rkUSQ', assistant_id=None, content=[MessageContentText(text=Text(annotations=[], value='Hello'), type='text')], created_at=1712526846, file_ids=[], metadata={}, object='thread.message', role='user', run_id=None, thread_id='thread_vcYd1rXbr0lIvVOwKA4mTqBK')\n",
      "ThreadMessage(id='msg_pjn57ggXgTD88XTKl2wZcEqG', assistant_id='asst_ERzvBehgZHH410kiTOuGtlNJ', content=[MessageContentText(text=Text(annotations=[], value='Hello! How can I assist you today?'), type='text')], created_at=1712526847, file_ids=[], metadata={}, object='thread.message', role='assistant', run_id='run_fRmzhhki46j4aGKX2XaiaAvc', thread_id='thread_vcYd1rXbr0lIvVOwKA4mTqBK')\n",
      "ThreadMessage(id='msg_11tZNnzxMrbwgZsHmzgGTFv3', assistant_id=None, content=[MessageContentText(text=Text(annotations=[], value='my name is Bob'), type='text')], created_at=1712526904, file_ids=[], metadata={}, object='thread.message', role='user', run_id=None, thread_id='thread_vcYd1rXbr0lIvVOwKA4mTqBK')\n",
      "ThreadMessage(id='msg_1SskTiXm5sKairUkKknRnUCj', assistant_id='asst_ERzvBehgZHH410kiTOuGtlNJ', content=[MessageContentText(text=Text(annotations=[], value='Nice to meet you, Bob! How can I help you today?'), type='text')], created_at=1712526905, file_ids=[], metadata={}, object='thread.message', role='assistant', run_id='run_6loxjvZvqzo9Ud09KgEzUSWj', thread_id='thread_vcYd1rXbr0lIvVOwKA4mTqBK')\n",
      "ThreadMessage(id='msg_CSrIDQiTfA5lUmqesizCVMSn', assistant_id=None, content=[MessageContentText(text=Text(annotations=[], value='who are you?'), type='text')], created_at=1712526927, file_ids=[], metadata={}, object='thread.message', role='user', run_id=None, thread_id='thread_vcYd1rXbr0lIvVOwKA4mTqBK')\n",
      "ThreadMessage(id='msg_kqxocNfVHgNCneyF9J8N31R5', assistant_id='asst_ERzvBehgZHH410kiTOuGtlNJ', content=[MessageContentText(text=Text(annotations=[], value='I am a travel guide, an expert in geography and tourism. I can provide you with information on geographical, historical, and cultural data related to various destinations around the world. Feel free to ask me any questions you may have about travel, landmarks, cities, countries, or any other related topic!'), type='text')], created_at=1712526928, file_ids=[], metadata={}, object='thread.message', role='assistant', run_id='run_GlFksjF4rzxwck7S7ucqdjXw', thread_id='thread_vcYd1rXbr0lIvVOwKA4mTqBK')\n",
      "ThreadMessage(id='msg_6ma0wyq2xrKqDSmoIRHvvTYN', assistant_id=None, content=[MessageContentText(text=Text(annotations=[], value='where is the White House?'), type='text')], created_at=1712526936, file_ids=[], metadata={}, object='thread.message', role='user', run_id=None, thread_id='thread_vcYd1rXbr0lIvVOwKA4mTqBK')\n",
      "\n",
      "\n",
      "ThreadMessage(id='msg_0G4ixQx14plBm80NIA2rkUSQ', assistant_id=None, content=[MessageContentText(text=Text(annotations=[], value='Hello'), type='text')], created_at=1712526846, file_ids=[], metadata={}, object='thread.message', role='user', run_id=None, thread_id='thread_vcYd1rXbr0lIvVOwKA4mTqBK')\n",
      "ThreadMessage(id='msg_pjn57ggXgTD88XTKl2wZcEqG', assistant_id='asst_ERzvBehgZHH410kiTOuGtlNJ', content=[MessageContentText(text=Text(annotations=[], value='Hello! How can I assist you today?'), type='text')], created_at=1712526847, file_ids=[], metadata={}, object='thread.message', role='assistant', run_id='run_fRmzhhki46j4aGKX2XaiaAvc', thread_id='thread_vcYd1rXbr0lIvVOwKA4mTqBK')\n",
      "ThreadMessage(id='msg_11tZNnzxMrbwgZsHmzgGTFv3', assistant_id=None, content=[MessageContentText(text=Text(annotations=[], value='my name is Bob'), type='text')], created_at=1712526904, file_ids=[], metadata={}, object='thread.message', role='user', run_id=None, thread_id='thread_vcYd1rXbr0lIvVOwKA4mTqBK')\n",
      "ThreadMessage(id='msg_1SskTiXm5sKairUkKknRnUCj', assistant_id='asst_ERzvBehgZHH410kiTOuGtlNJ', content=[MessageContentText(text=Text(annotations=[], value='Nice to meet you, Bob! How can I help you today?'), type='text')], created_at=1712526905, file_ids=[], metadata={}, object='thread.message', role='assistant', run_id='run_6loxjvZvqzo9Ud09KgEzUSWj', thread_id='thread_vcYd1rXbr0lIvVOwKA4mTqBK')\n",
      "ThreadMessage(id='msg_CSrIDQiTfA5lUmqesizCVMSn', assistant_id=None, content=[MessageContentText(text=Text(annotations=[], value='who are you?'), type='text')], created_at=1712526927, file_ids=[], metadata={}, object='thread.message', role='user', run_id=None, thread_id='thread_vcYd1rXbr0lIvVOwKA4mTqBK')\n",
      "ThreadMessage(id='msg_kqxocNfVHgNCneyF9J8N31R5', assistant_id='asst_ERzvBehgZHH410kiTOuGtlNJ', content=[MessageContentText(text=Text(annotations=[], value='I am a travel guide, an expert in geography and tourism. I can provide you with information on geographical, historical, and cultural data related to various destinations around the world. Feel free to ask me any questions you may have about travel, landmarks, cities, countries, or any other related topic!'), type='text')], created_at=1712526928, file_ids=[], metadata={}, object='thread.message', role='assistant', run_id='run_GlFksjF4rzxwck7S7ucqdjXw', thread_id='thread_vcYd1rXbr0lIvVOwKA4mTqBK')\n",
      "ThreadMessage(id='msg_6ma0wyq2xrKqDSmoIRHvvTYN', assistant_id=None, content=[MessageContentText(text=Text(annotations=[], value='where is the White House?'), type='text')], created_at=1712526936, file_ids=[], metadata={}, object='thread.message', role='user', run_id=None, thread_id='thread_vcYd1rXbr0lIvVOwKA4mTqBK')\n",
      "ThreadMessage(id='msg_OelC7IdiogpQTOTc53vaHoGP', assistant_id='asst_ERzvBehgZHH410kiTOuGtlNJ', content=[MessageContentText(text=Text(annotations=[], value='The White House is located in Washington, D.C., the capital of the United States. It is situated at 1600 Pennsylvania Avenue NW in Washington, D.C. The White House serves as the official residence and workplace of the President of the United States. It is an iconic symbol of the American presidency and is a popular tourist attraction.'), type='text')], created_at=1712526937, file_ids=[], metadata={}, object='thread.message', role='assistant', run_id='run_Gwzbe2vi2u0QDMPedUecD9qT', thread_id='thread_vcYd1rXbr0lIvVOwKA4mTqBK')\n",
      "ThreadMessage(id='msg_hcGFw0VxbCnvU35GFLsZqKK2', assistant_id=None, content=[MessageContentText(text=Text(annotations=[], value='what is my name?'), type='text')], created_at=1712526956, file_ids=[], metadata={}, object='thread.message', role='user', run_id=None, thread_id='thread_vcYd1rXbr0lIvVOwKA4mTqBK')\n",
      "\n",
      "\n",
      "ThreadMessage(id='msg_0G4ixQx14plBm80NIA2rkUSQ', assistant_id=None, content=[MessageContentText(text=Text(annotations=[], value='Hello'), type='text')], created_at=1712526846, file_ids=[], metadata={}, object='thread.message', role='user', run_id=None, thread_id='thread_vcYd1rXbr0lIvVOwKA4mTqBK')\n",
      "ThreadMessage(id='msg_pjn57ggXgTD88XTKl2wZcEqG', assistant_id='asst_ERzvBehgZHH410kiTOuGtlNJ', content=[MessageContentText(text=Text(annotations=[], value='Hello! How can I assist you today?'), type='text')], created_at=1712526847, file_ids=[], metadata={}, object='thread.message', role='assistant', run_id='run_fRmzhhki46j4aGKX2XaiaAvc', thread_id='thread_vcYd1rXbr0lIvVOwKA4mTqBK')\n",
      "ThreadMessage(id='msg_11tZNnzxMrbwgZsHmzgGTFv3', assistant_id=None, content=[MessageContentText(text=Text(annotations=[], value='my name is Bob'), type='text')], created_at=1712526904, file_ids=[], metadata={}, object='thread.message', role='user', run_id=None, thread_id='thread_vcYd1rXbr0lIvVOwKA4mTqBK')\n",
      "ThreadMessage(id='msg_1SskTiXm5sKairUkKknRnUCj', assistant_id='asst_ERzvBehgZHH410kiTOuGtlNJ', content=[MessageContentText(text=Text(annotations=[], value='Nice to meet you, Bob! How can I help you today?'), type='text')], created_at=1712526905, file_ids=[], metadata={}, object='thread.message', role='assistant', run_id='run_6loxjvZvqzo9Ud09KgEzUSWj', thread_id='thread_vcYd1rXbr0lIvVOwKA4mTqBK')\n",
      "ThreadMessage(id='msg_CSrIDQiTfA5lUmqesizCVMSn', assistant_id=None, content=[MessageContentText(text=Text(annotations=[], value='who are you?'), type='text')], created_at=1712526927, file_ids=[], metadata={}, object='thread.message', role='user', run_id=None, thread_id='thread_vcYd1rXbr0lIvVOwKA4mTqBK')\n",
      "ThreadMessage(id='msg_kqxocNfVHgNCneyF9J8N31R5', assistant_id='asst_ERzvBehgZHH410kiTOuGtlNJ', content=[MessageContentText(text=Text(annotations=[], value='I am a travel guide, an expert in geography and tourism. I can provide you with information on geographical, historical, and cultural data related to various destinations around the world. Feel free to ask me any questions you may have about travel, landmarks, cities, countries, or any other related topic!'), type='text')], created_at=1712526928, file_ids=[], metadata={}, object='thread.message', role='assistant', run_id='run_GlFksjF4rzxwck7S7ucqdjXw', thread_id='thread_vcYd1rXbr0lIvVOwKA4mTqBK')\n",
      "ThreadMessage(id='msg_6ma0wyq2xrKqDSmoIRHvvTYN', assistant_id=None, content=[MessageContentText(text=Text(annotations=[], value='where is the White House?'), type='text')], created_at=1712526936, file_ids=[], metadata={}, object='thread.message', role='user', run_id=None, thread_id='thread_vcYd1rXbr0lIvVOwKA4mTqBK')\n",
      "ThreadMessage(id='msg_OelC7IdiogpQTOTc53vaHoGP', assistant_id='asst_ERzvBehgZHH410kiTOuGtlNJ', content=[MessageContentText(text=Text(annotations=[], value='The White House is located in Washington, D.C., the capital of the United States. It is situated at 1600 Pennsylvania Avenue NW in Washington, D.C. The White House serves as the official residence and workplace of the President of the United States. It is an iconic symbol of the American presidency and is a popular tourist attraction.'), type='text')], created_at=1712526937, file_ids=[], metadata={}, object='thread.message', role='assistant', run_id='run_Gwzbe2vi2u0QDMPedUecD9qT', thread_id='thread_vcYd1rXbr0lIvVOwKA4mTqBK')\n",
      "ThreadMessage(id='msg_hcGFw0VxbCnvU35GFLsZqKK2', assistant_id=None, content=[MessageContentText(text=Text(annotations=[], value='what is my name?'), type='text')], created_at=1712526956, file_ids=[], metadata={}, object='thread.message', role='user', run_id=None, thread_id='thread_vcYd1rXbr0lIvVOwKA4mTqBK')\n",
      "ThreadMessage(id='msg_xuFufJzUMTZZLUlpnlLIiC2l', assistant_id='asst_ERzvBehgZHH410kiTOuGtlNJ', content=[MessageContentText(text=Text(annotations=[], value='Your name is Bob.'), type='text')], created_at=1712526957, file_ids=[], metadata={}, object='thread.message', role='assistant', run_id='run_r6R2rsGixyN76i6l8Bqxp76l', thread_id='thread_vcYd1rXbr0lIvVOwKA4mTqBK')\n",
      "ThreadMessage(id='msg_zp2aJfcrjxooRs15QhtFpTHV', assistant_id=None, content=[MessageContentText(text=Text(annotations=[], value='see you later'), type='text')], created_at=1712526971, file_ids=[], metadata={}, object='thread.message', role='user', run_id=None, thread_id='thread_vcYd1rXbr0lIvVOwKA4mTqBK')\n",
      "\n",
      "\n"
     ]
    }
   ],
   "source": [
    "send_and_run()"
   ]
  }
 ],
 "metadata": {
  "kernelspec": {
   "display_name": "Python 3",
   "language": "python",
   "name": "python3"
  },
  "language_info": {
   "codemirror_mode": {
    "name": "ipython",
    "version": 3
   },
   "file_extension": ".py",
   "mimetype": "text/x-python",
   "name": "python",
   "nbconvert_exporter": "python",
   "pygments_lexer": "ipython3",
   "version": "3.9.13"
  }
 },
 "nbformat": 4,
 "nbformat_minor": 2
}
